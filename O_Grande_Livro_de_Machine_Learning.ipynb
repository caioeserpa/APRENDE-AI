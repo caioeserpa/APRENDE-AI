{
  "nbformat": 4,
  "nbformat_minor": 0,
  "metadata": {
    "colab": {
      "provenance": [],
      "toc_visible": true,
      "authorship_tag": "ABX9TyPAv9G/M+4j1zmpPe9rns9W",
      "include_colab_link": true
    },
    "kernelspec": {
      "name": "python3",
      "display_name": "Python 3"
    },
    "language_info": {
      "name": "python"
    }
  },
  "cells": [
    {
      "cell_type": "markdown",
      "metadata": {
        "id": "view-in-github",
        "colab_type": "text"
      },
      "source": [
        "<a href=\"https://colab.research.google.com/github/caioeserpa/APRENDE-AI/blob/main/O_Grande_Livro_de_Machine_Learning.ipynb\" target=\"_parent\"><img src=\"https://colab.research.google.com/assets/colab-badge.svg\" alt=\"Open In Colab\"/></a>"
      ]
    },
    {
      "cell_type": "markdown",
      "source": [
        "# Sobre Este Livro"
      ],
      "metadata": {
        "id": "1_vv40-odIER"
      }
    },
    {
      "cell_type": "markdown",
      "source": [
        "🌌 Galáxias → 🌍 Mundos → 🏰 Reinos\n",
        "\n",
        "Ou seja:\n",
        "\n",
        "- Galáxia (Tópico principal) → Grande área dentro de IA (Machine Learning, IA Bio-Inspirada, IA Explicável, etc.)\n",
        "- Mundo (Subtópico) → Uma subcategoria dentro da galáxia (Aprendizado Supervisionado, Redes Neurais, etc.)\n",
        "- Reino (Subsubtópico) → Técnicas e algoritmos específicos (Regressão Linear, Random Forest, Transformers, etc.)"
      ],
      "metadata": {
        "id": "W8cW25WcgwWc"
      }
    },
    {
      "cell_type": "markdown",
      "source": [
        "# Sobre o Autor"
      ],
      "metadata": {
        "id": "LcWBJ_a0dFcm"
      }
    },
    {
      "cell_type": "markdown",
      "source": [
        "# Motivações"
      ],
      "metadata": {
        "id": "oDIs7-Xe-3Yj"
      }
    },
    {
      "cell_type": "markdown",
      "source": [
        "# Como utilizar este conteúdo da melhor forma?\n"
      ],
      "metadata": {
        "id": "zLVY7hM6Jc5k"
      }
    },
    {
      "cell_type": "markdown",
      "source": [
        "Convenções usadas no livro\n",
        "As seguintes convenções tipográficas são usadas neste livro:\n",
        "\n",
        "Itálico\n",
        "Indica novos termos, URLs, endereços de email, nomes e extensões de arquivos [3].\n",
        "\n",
        "Espaçamento constante\n",
        "Usado para listagens de programas, bem como dentro de parágrafos para indicar elementos programáticos tais como nomes de variáveis ou funções, bancos de dados, tipos de dados, variáveis do ambiente, instruções e palavras-chave.\n",
        "\n",
        "Observe que quando uma quebra de linha cai dentro de um termo de espaçamento constante, o hífen não é utilizado—​pois ele poderia ser erroneamente entendido como parte do termo.\n",
        "\n",
        "Espaçamento constante em negrito\n",
        "Mostra comandos oi outro texto que devem ser digitados literalmente pelo usuário.\n",
        "\n",
        "Espaçamento constante em itálico\n",
        "Mostra texto que deve ser substituído por valores fornecidos pelo usuário ou por valores determinados pelo contexto.\n",
        "\n",
        "👉 Dica\n",
        "Esse elemento é uma dica ou sugestão.\n",
        "\n",
        "✒️ Nota\n",
        "Este elemento é uma nota ou observação.\n",
        "\n",
        "⚠️ Aviso\n",
        "Este elemento é um aviso ou alerta."
      ],
      "metadata": {
        "id": "gJy4AGgFJive"
      }
    },
    {
      "cell_type": "code",
      "execution_count": null,
      "metadata": {
        "id": "_sOXMMRC-yk-"
      },
      "outputs": [],
      "source": []
    },
    {
      "cell_type": "markdown",
      "source": [
        "# 🌎 Estatística"
      ],
      "metadata": {
        "id": "9JnFLyng-3xy"
      }
    },
    {
      "cell_type": "markdown",
      "source": [
        "## Reino 1. O básico\n",
        "\n",
        "\\\\\n",
        "### O que é inferência estatística?\n",
        "Inferência estatística é o processo de extrair conclusões ou inferências sobre uma população com base em informações obtidas a partir de uma amostra dessa população.\n",
        "\n",
        "\\\\\n",
        "###O que é Análise Exploratória de Dados? AED\n",
        "É uma abordagem da análise de dados que visa compreender e resumir as características de um conjunto de dados por meio de técnicas gráficas e estatísticas descritivas, tendo como objetivo descobrir padrões, tendências, anomalias e relações entre variáveis ​​dentro dos dados, de modo a obter insights que possam orientar a tomada de decisão ou a formulação de hipóteses para análises mais avançadas.\n",
        "\n",
        "\\\\\n",
        "###O que são Dados Estrutudados?\n",
        "Dados estruturados são informações organizadas em um formato específico e com um esquema definido, onde cada campo de dados é claramente identificado e relacionado a um tipo de dado específico. Eles são criados para serem facilmente processados ​​e armazenados em bancos de dados relacionais, onde cada tabela é composta por uma série de campos, cada um com um tipo de dado específico, como texto, número, data, entre outros.\n",
        "\n",
        "\\\\\n",
        "###Tipos de Dados\n",
        "**Contínuos:** Dados que podem assumir qualquer valor em um intervalo.\n",
        "\n",
        "**Discretos:** Dados que podem assumir apenas valores inteiros, como contagens.\n",
        "\n",
        "**Categóricos:** Dados que podem assumir apenas um conjunto específico de valores representando um conjunto de possíveis categorias.\n",
        "\n",
        "**Binários:** Um caso especial de dados categóricos com apenas duas categorias de valores (0/1, verdadeiro/falso). Sinônimos: dicotômico, lógico, indicador, booleano.\n",
        "\n",
        "**Ordinais:** Dado categórico que tem uma ordem explícita. Sinônimo: fator ordenado\n",
        "\n",
        "\\\\\n",
        "### Dados Não estruturados\n",
        "\n",
        "Dados não estruturados são informações que não possuem um formato definido e organizado, dificultando a análise e o processamento automatizado. Esses dados podem ser compostos por textos, imagens, vídeos, áudios, redes sociais, e-mails, entre outros."
      ],
      "metadata": {
        "id": "ptefeAgf_OBa"
      }
    },
    {
      "cell_type": "markdown",
      "source": [
        "# 🌎 Matemática"
      ],
      "metadata": {
        "id": "c_8-3B9a-9_1"
      }
    },
    {
      "cell_type": "markdown",
      "source": [
        "# 🌎 Engenharia de Atributos"
      ],
      "metadata": {
        "id": "K9GP7LBvHxvi"
      }
    },
    {
      "cell_type": "markdown",
      "source": [
        "## Seleção de Atributos"
      ],
      "metadata": {
        "id": "foqDIE-jKFi2"
      }
    },
    {
      "cell_type": "markdown",
      "source": [
        "# 🌎 Visualização de Dados"
      ],
      "metadata": {
        "id": "dSpylNNbMZ0Q"
      }
    },
    {
      "cell_type": "markdown",
      "source": [
        "# 🌎 Python"
      ],
      "metadata": {
        "id": "0eU8N_I8IgBM"
      }
    },
    {
      "cell_type": "markdown",
      "source": [
        "# 🌎 Inteligência Artificial"
      ],
      "metadata": {
        "id": "OT7Lju9v_AM8"
      }
    },
    {
      "cell_type": "markdown",
      "source": [
        "## Machine Learning"
      ],
      "metadata": {
        "id": "rF4u-WsuH9cc"
      }
    },
    {
      "cell_type": "markdown",
      "source": [
        "### Regressão"
      ],
      "metadata": {
        "id": "SFIGBKvHiVBo"
      }
    },
    {
      "cell_type": "markdown",
      "source": [
        "#### Modelos"
      ],
      "metadata": {
        "id": "4XKox5l9iZEr"
      }
    },
    {
      "cell_type": "markdown",
      "source": [
        "##### ARIMA"
      ],
      "metadata": {
        "id": "8fuqpC5jjXjw"
      }
    },
    {
      "cell_type": "markdown",
      "source": [
        "##### SARIMA"
      ],
      "metadata": {
        "id": "HCcFA-J0icGd"
      }
    },
    {
      "cell_type": "markdown",
      "source": [
        "SARIMA: Seasonal ARIMA\n",
        "O SARIMA **(Seasonal AutoRegressive Integrated Moving Average)** é uma extensão do modelo ARIMA que leva em conta a sazonalidade dos dados. Ele é usado quando as séries temporais apresentam padrões que se repetem em intervalos regulares.\n",
        "\n",
        "Componentes do SARIMA:\n",
        "- **AR (AutoRegressive)**: Representa a dependência linear das observações passadas.\n",
        "- **I (Integrated)**: Representa a diferenciação para tornar a série estacionária.\n",
        "- **MA (Moving Average)**: Modela os erros das previsões passadas.\n",
        "- **Sazonalidade**: Inclui os mesmos componentes (AR, I, MA), mas aplicados a padrões sazonais.\n"
      ],
      "metadata": {
        "id": "o9WGjIQniq7c"
      }
    },
    {
      "cell_type": "markdown",
      "source": [
        "Como funciona:\n",
        "\n",
        "\\\\\n",
        "**Estacionarização**:\n",
        "\n",
        "Identifique se os dados precisam ser diferenciados (para remover tendências).\n",
        "Caso haja sazonalidade, aplique uma diferenciação sazonal.\n",
        "\n",
        "\\\\\n",
        "**Identificação dos parâmetros**:\n",
        "\n",
        "Use gráficos como a ACF (Autocorrelation Function) e PACF (Partial Autocorrelation Function) para identificar p, q, P, e Q.\n",
        "\n",
        "\\\\\n",
        "**Treinamento**:\n",
        "\n",
        "Ajuste o modelo aos dados usando os parâmetros definidos.\n",
        "\n",
        "\\\\\n",
        "**Previsão**:\n",
        "\n",
        "O modelo é usado para prever os valores futuros, considerando tanto os componentes sazonais quanto os não sazonais.\n"
      ],
      "metadata": {
        "id": "FOJ6myQzi4lW"
      }
    },
    {
      "cell_type": "markdown",
      "source": [
        "**Fórmula geral do SARIMA**\n",
        "$$ SARIMA(p,d,q)(P,D,Q,s) $$"
      ],
      "metadata": {
        "id": "C_r6CbNci-3e"
      }
    },
    {
      "cell_type": "markdown",
      "source": [
        "Portanto, denotamos modelos SARIMA como SARIMA(p, d, q)(P, D, Q)s, onde:\n",
        "\n",
        "- p é o número de termos autoregressivos,\n",
        "- d é o número de diferenças não sazonais necessárias para a estacionariedade,\n",
        "- q é o número de erros de previsão defasados ​​na equação de previsão,\n",
        "- P, D e Q são os equivalentes sazonais de p, d e q,\n",
        "s é a duração do ciclo sazonal.\n",
        "\n",
        "\\\\\n",
        "**ATENÇÃO**\n",
        "\n",
        "Os valores de \"p\", \"d\" e \"q\" (\"P\", \"D\", \"Q\") não podem ser negativos"
      ],
      "metadata": {
        "id": "8JHi_P4tjE0P"
      }
    },
    {
      "cell_type": "code",
      "source": [
        "import pandas as pd\n",
        "import numpy as np\n",
        "import yfinance as yf\n",
        "\n",
        "from statsmodels.tsa.statespace.sarimax import SARIMAX\n",
        "\n",
        "from statsmodels.graphics.tsaplots import plot_acf, plot_pacf\n",
        "import matplotlib.pyplot as plt\n",
        "\n",
        "from sklearn.metrics import mean_squared_error"
      ],
      "metadata": {
        "id": "8XzgIsFRiYXb"
      },
      "execution_count": null,
      "outputs": []
    },
    {
      "cell_type": "markdown",
      "source": [
        "##### SARIMAX"
      ],
      "metadata": {
        "id": "LKv2PoFEi098"
      }
    },
    {
      "cell_type": "markdown",
      "source": [
        "##### HWES"
      ],
      "metadata": {
        "id": "0tI10D5ejiiy"
      }
    },
    {
      "cell_type": "markdown",
      "source": [
        "## Deep Learning"
      ],
      "metadata": {
        "id": "c_IqDVC1H_pT"
      }
    },
    {
      "cell_type": "code",
      "source": [
        "> exemplo"
      ],
      "metadata": {
        "colab": {
          "base_uri": "https://localhost:8080/",
          "height": 106
        },
        "id": "jDa77LXx_DUi",
        "outputId": "46fd0b5c-5f46-40f8-d0c2-8f1f7b3bdead"
      },
      "execution_count": null,
      "outputs": [
        {
          "output_type": "error",
          "ename": "SyntaxError",
          "evalue": "invalid syntax (<ipython-input-1-3f33c0a1810c>, line 1)",
          "traceback": [
            "\u001b[0;36m  File \u001b[0;32m\"<ipython-input-1-3f33c0a1810c>\"\u001b[0;36m, line \u001b[0;32m1\u001b[0m\n\u001b[0;31m    > exemplo\u001b[0m\n\u001b[0m    ^\u001b[0m\n\u001b[0;31mSyntaxError\u001b[0m\u001b[0;31m:\u001b[0m invalid syntax\n"
          ]
        }
      ]
    },
    {
      "cell_type": "code",
      "source": [],
      "metadata": {
        "id": "6xMSVscuB0Qe"
      },
      "execution_count": null,
      "outputs": []
    },
    {
      "cell_type": "markdown",
      "source": [
        "# 🔗 Referências"
      ],
      "metadata": {
        "id": "V0PHetEuFeCU"
      }
    },
    {
      "cell_type": "markdown",
      "source": [
        "https://pythonfluente.com/\n",
        "\n",
        "https://www.statsmodels.org/dev/examples/notebooks/generated/statespace_sarimax_stata.html\n",
        "\n",
        "https://datascientest.com/en/sarimax-model-what-is-it-how-can-it-be-applied-to-time-series\n",
        "\n",
        "https://cienciadedatos.net/documentos/py51-arima-sarimax-models-python\n",
        "\n",
        "https://www.geeksforgeeks.org/complete-guide-to-sarimax-in-python/\n",
        "\n",
        "https://zerotomastery.io/blog/arima-sarima-sarimax-explained/\n",
        "\n",
        "\n",
        "https://www.jdmal.ir/article_254799_c68809e93f55e1ed474b28b6214840d3.pdf?lang=en\n",
        "\n",
        "https://www.mdpi.com/1996-1073/14/19/6021\n",
        "\n",
        "https://sci-hub.se/10.1109/ENERGYCON.2016.7514029\n",
        "\n",
        "\n",
        "https://pub.aimind.so/sarima-a-seasonal-component-in-auto-regressive-models-bc859211ebd1\n",
        "\n",
        "https://towardsdatascience.com/understanding-sarima-955fe217bc77\n",
        "\n",
        "https://towardsdatascience.com/time-series-forecasting-with-arima-sarima-and-sarimax-ee61099e78f6"
      ],
      "metadata": {
        "id": "qEGTrba7Fuzm"
      }
    },
    {
      "cell_type": "code",
      "source": [],
      "metadata": {
        "id": "wwt98jWOFvgd"
      },
      "execution_count": null,
      "outputs": []
    }
  ]
}